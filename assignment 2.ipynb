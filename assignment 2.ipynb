{
 "cells": [
  {
   "cell_type": "code",
   "execution_count": 2,
   "metadata": {},
   "outputs": [
    {
     "ename": "error",
     "evalue": "OpenCV(4.8.0) D:\\a\\opencv-python\\opencv-python\\opencv\\modules\\imgproc\\src\\thresh.cpp:1555: error: (-2:Unspecified error) in function 'double __cdecl cv::threshold(const class cv::_InputArray &,const class cv::_OutputArray &,double,double,int)'\n> THRESH_OTSU mode:\n>     'src_type == CV_8UC1 || src_type == CV_16UC1'\n> where\n>     'src_type' is 6 (CV_64FC1)\n",
     "output_type": "error",
     "traceback": [
      "\u001b[1;31m---------------------------------------------------------------------------\u001b[0m",
      "\u001b[1;31merror\u001b[0m                                     Traceback (most recent call last)",
      "\u001b[1;32mc:\\Users\\Dell\\Documents\\coding\\machine vision\\assignment 2.ipynb Cell 1\u001b[0m line \u001b[0;36m2\n\u001b[0;32m     <a href='vscode-notebook-cell:/c%3A/Users/Dell/Documents/coding/machine%20vision/assignment%202.ipynb#W0sZmlsZQ%3D%3D?line=22'>23</a>\u001b[0m local_max \u001b[39m=\u001b[39m cv2\u001b[39m.\u001b[39mdilate(log, \u001b[39mNone\u001b[39;00m)\n\u001b[0;32m     <a href='vscode-notebook-cell:/c%3A/Users/Dell/Documents/coding/machine%20vision/assignment%202.ipynb#W0sZmlsZQ%3D%3D?line=24'>25</a>\u001b[0m \u001b[39m# Find circles by thresholding\u001b[39;00m\n\u001b[1;32m---> <a href='vscode-notebook-cell:/c%3A/Users/Dell/Documents/coding/machine%20vision/assignment%202.ipynb#W0sZmlsZQ%3D%3D?line=25'>26</a>\u001b[0m thresh \u001b[39m=\u001b[39m cv2\u001b[39m.\u001b[39;49mthreshold(local_max, \u001b[39m0\u001b[39;49m, \u001b[39m255\u001b[39;49m, cv2\u001b[39m.\u001b[39;49mTHRESH_BINARY \u001b[39m+\u001b[39;49m cv2\u001b[39m.\u001b[39;49mTHRESH_OTSU)[\u001b[39m1\u001b[39m]\n\u001b[0;32m     <a href='vscode-notebook-cell:/c%3A/Users/Dell/Documents/coding/machine%20vision/assignment%202.ipynb#W0sZmlsZQ%3D%3D?line=26'>27</a>\u001b[0m contours, _ \u001b[39m=\u001b[39m cv2\u001b[39m.\u001b[39mfindContours(thresh\u001b[39m.\u001b[39mastype(\u001b[39m'\u001b[39m\u001b[39muint8\u001b[39m\u001b[39m'\u001b[39m), cv2\u001b[39m.\u001b[39mRETR_EXTERNAL, cv2\u001b[39m.\u001b[39mCHAIN_APPROX_SIMPLE)\n\u001b[0;32m     <a href='vscode-notebook-cell:/c%3A/Users/Dell/Documents/coding/machine%20vision/assignment%202.ipynb#W0sZmlsZQ%3D%3D?line=28'>29</a>\u001b[0m \u001b[39m# Iterate over potential circles and find the largest one\u001b[39;00m\n",
      "\u001b[1;31merror\u001b[0m: OpenCV(4.8.0) D:\\a\\opencv-python\\opencv-python\\opencv\\modules\\imgproc\\src\\thresh.cpp:1555: error: (-2:Unspecified error) in function 'double __cdecl cv::threshold(const class cv::_InputArray &,const class cv::_OutputArray &,double,double,int)'\n> THRESH_OTSU mode:\n>     'src_type == CV_8UC1 || src_type == CV_16UC1'\n> where\n>     'src_type' is 6 (CV_64FC1)\n"
     ]
    }
   ],
   "source": [
    "import cv2\n",
    "import numpy as np\n",
    "\n",
    "# Load the image\n",
    "im = cv2.imread('images/the_berry_farms_sunflower_field.jpeg', cv2.IMREAD_REDUCED_COLOR_4)\n",
    "gray = cv2.cvtColor(im, cv2.COLOR_BGR2GRAY)\n",
    "\n",
    "# Define a range of sigma values to use\n",
    "sigma_values = np.arange(1, 10, 0.5)\n",
    "\n",
    "# Initialize variables to keep track of the largest circle parameters\n",
    "max_radius = 0\n",
    "max_center = (0, 0)\n",
    "max_sigma = 0\n",
    "for sigma in sigma_values:\n",
    "    # Apply Gaussian blur with current sigma value\n",
    "    blurred = cv2.GaussianBlur(gray, (0, 0), sigma)\n",
    "\n",
    "    # Apply Laplacian of Gaussian\n",
    "    log = cv2.Laplacian(blurred, cv2.CV_64F)\n",
    "\n",
    "    # Find local maxima as potential circle centers\n",
    "    local_max = cv2.dilate(log, None)\n",
    "\n",
    "    # Find circles by thresholding\n",
    "    thresh = cv2.threshold(local_max, 0, 255, cv2.THRESH_BINARY + cv2.THRESH_OTSU)[1]\n",
    "    contours, _ = cv2.findContours(thresh.astype('uint8'), cv2.RETR_EXTERNAL, cv2.CHAIN_APPROX_SIMPLE)\n",
    "\n",
    "    # Iterate over potential circles and find the largest one\n",
    "    for contour in contours:\n",
    "        (x, y), radius = cv2.minEnclosingCircle(contour)\n",
    "        if radius > max_radius:\n",
    "            max_radius = radius\n",
    "            max_center = (int(x), int(y))\n",
    "            max_sigma = sigma\n",
    "\n",
    "# Report the parameters of the largest circle\n",
    "print(f\"Largest Circle Parameters:\")\n",
    "print(f\"Center: {max_center}\")\n",
    "print(f\"Radius: {max_radius}\")\n",
    "print(f\"Sigma Value: {max_sigma}\")\n",
    "print(f\"Sigma Range: {sigma_values[0]} to {sigma_values[-1]}\")\n"
   ]
  }
 ],
 "metadata": {
  "kernelspec": {
   "display_name": "cv",
   "language": "python",
   "name": "python3"
  },
  "language_info": {
   "codemirror_mode": {
    "name": "ipython",
    "version": 3
   },
   "file_extension": ".py",
   "mimetype": "text/x-python",
   "name": "python",
   "nbconvert_exporter": "python",
   "pygments_lexer": "ipython3",
   "version": "3.11.4"
  },
  "orig_nbformat": 4
 },
 "nbformat": 4,
 "nbformat_minor": 2
}
